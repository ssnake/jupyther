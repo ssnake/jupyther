{
 "cells": [
  {
   "cell_type": "code",
   "execution_count": 1,
   "id": "cef5d756-66ed-42ed-ab33-3e5a165e2d6e",
   "metadata": {},
   "outputs": [],
   "source": [
    "import os\n",
    "import openai\n",
    "import sys"
   ]
  },
  {
   "cell_type": "code",
   "execution_count": 2,
   "id": "7ea6608a-e747-4cf2-86c4-94577601cb14",
   "metadata": {},
   "outputs": [],
   "source": [
    "openai.api_key  = os.environ['OPENAI_API_KEY']"
   ]
  },
  {
   "cell_type": "code",
   "execution_count": 3,
   "id": "60a56194-61c6-40a6-92d3-68159ad995e2",
   "metadata": {},
   "outputs": [],
   "source": [
    "from langchain.document_loaders import ConfluenceLoader"
   ]
  },
  {
   "cell_type": "code",
   "execution_count": null,
   "id": "074703a3-78e2-486e-a3fc-88a40432768e",
   "metadata": {},
   "outputs": [],
   "source": [
    "!pip install lark"
   ]
  },
  {
   "cell_type": "code",
   "execution_count": 4,
   "id": "d7dca830-3fcc-404b-82a2-518151de68b9",
   "metadata": {},
   "outputs": [],
   "source": [
    "loader = ConfluenceLoader(\n",
    "    url=\"https://studytube.atlassian.net/wiki\", username=os.environ['USERNAME'], api_key=os.environ['API_KEY']\n",
    ")\n",
    "documents = loader.load(space_key=\"ST\", include_attachments=False, limit=50)"
   ]
  },
  {
   "cell_type": "code",
   "execution_count": 5,
   "id": "945abe71-81da-4dfd-9c77-f52d7526c85b",
   "metadata": {},
   "outputs": [
    {
     "name": "stdout",
     "output_type": "stream",
     "text": [
      "110\n"
     ]
    }
   ],
   "source": [
    "print(len(documents))"
   ]
  },
  {
   "cell_type": "code",
   "execution_count": null,
   "id": "b49d6876-c300-4b03-89a5-b3bd1154c8b4",
   "metadata": {},
   "outputs": [],
   "source": [
    "#tech_documents = loader.load(space_key=\"TECH\", include_attachments=False, limit=50)"
   ]
  },
  {
   "cell_type": "code",
   "execution_count": null,
   "id": "2af384fc-2c21-4902-866c-8440e5edcc13",
   "metadata": {},
   "outputs": [],
   "source": [
    "#print(len(tech_documents))"
   ]
  },
  {
   "cell_type": "code",
   "execution_count": 6,
   "id": "7576fc97-996f-488e-8013-9ff3f24c4c4b",
   "metadata": {},
   "outputs": [],
   "source": [
    "from langchain.text_splitter import RecursiveCharacterTextSplitter\n",
    "\n",
    "text_splitter = RecursiveCharacterTextSplitter(\n",
    "    # Set a really small chunk size, just to show.\n",
    "    chunk_size = 600,\n",
    "    chunk_overlap  = 200,\n",
    "    length_function = len,\n",
    "    is_separator_regex = False,\n",
    "    separators=[\"\\n\\n\", \"\\n\", \"(?<=\\. )\", \" \", \"\"]\n",
    ")"
   ]
  },
  {
   "cell_type": "code",
   "execution_count": 7,
   "id": "304bdf27-ad8b-48c6-9a05-b0542b97e1d6",
   "metadata": {},
   "outputs": [],
   "source": [
    "splitts = text_splitter.split_documents(documents)"
   ]
  },
  {
   "cell_type": "code",
   "execution_count": 8,
   "id": "54c37300-4182-4b08-a372-e5c348f5e348",
   "metadata": {},
   "outputs": [
    {
     "data": {
      "text/plain": [
       "719"
      ]
     },
     "execution_count": 8,
     "metadata": {},
     "output_type": "execute_result"
    }
   ],
   "source": [
    "len(splitts)"
   ]
  },
  {
   "cell_type": "code",
   "execution_count": 9,
   "id": "8a5bf9f9-e4a0-4653-b986-d00d5df2bf4e",
   "metadata": {},
   "outputs": [],
   "source": [
    "from langchain.embeddings import OpenAIEmbeddings\n",
    "\n",
    "embeddings_model = OpenAIEmbeddings()"
   ]
  },
  {
   "cell_type": "code",
   "execution_count": 10,
   "id": "1cc31e7e-3113-4f6d-9566-729c4b5527ab",
   "metadata": {},
   "outputs": [],
   "source": [
    "from langchain.vectorstores import Chroma"
   ]
  },
  {
   "cell_type": "code",
   "execution_count": 11,
   "id": "5feea57a-bcd5-4479-993c-c316e7ac7245",
   "metadata": {},
   "outputs": [],
   "source": [
    "persist_directory='cache'"
   ]
  },
  {
   "cell_type": "code",
   "execution_count": 12,
   "id": "dd3812d3-8ad6-451a-9e29-25edb7b9af82",
   "metadata": {},
   "outputs": [],
   "source": [
    "db = Chroma.from_documents(documents=splitts,\n",
    "    embedding=embeddings_model,\n",
    "    persist_directory=persist_directory)\n",
    "db.persist()"
   ]
  },
  {
   "cell_type": "code",
   "execution_count": 13,
   "id": "3be1e7a5-f224-43dd-a586-2765515afc8a",
   "metadata": {},
   "outputs": [
    {
     "name": "stdout",
     "output_type": "stream",
     "text": [
      "4204\n"
     ]
    }
   ],
   "source": [
    "print(db._collection.count())"
   ]
  },
  {
   "cell_type": "code",
   "execution_count": 14,
   "id": "d7eca453-b1fd-4ebf-bf4e-38dcd43dbb84",
   "metadata": {},
   "outputs": [
    {
     "data": {
      "text/plain": [
       "[Document(page_content='Why do we use a password manager? In line with the Information Security Principles we use 1Password as our company-wide password management tool. Security is a vital part of our road to the BHAG. Product can build the best platforms, sales can work their hardest to close deals, but if we have a security breach, customers will lose trust in our platform and our work would be for nothing. 1Password', metadata={'id': '2193752086', 'source': 'https://studytube.atlassian.net/wiki/spaces/ST/pages/2193752086/1Password', 'title': '1Password'}),\n",
       " Document(page_content='Why do we use a password manager? In line with the Information Security Principles we use 1Password as our company-wide password management tool. Security is a vital part of our road to the BHAG. Product can build the best platforms, sales can work their hardest to close deals, but if we have a security breach, customers will lose trust in our platform and our work would be for nothing. 1Password', metadata={'id': '2193752086', 'source': 'https://studytube.atlassian.net/wiki/spaces/ST/pages/2193752086/1Password', 'title': '1Password'}),\n",
       " Document(page_content='Why do we use a password manager? In line with the Information Security Principles we use 1Password as our company-wide password management tool. Security is a vital part of our road to the BHAG. Product can build the best platforms, sales can work their hardest to close deals, but if we have a security breach, customers will lose trust in our platform and our work would be for nothing. 1Password is mandatory for all Tubers. Shared passwords, Wifi and all other logins can only be shared through 1Password. Never share passwords via Slack or E-mail. 🔐 What is a password manager? A password', metadata={'id': '2193752086', 'source': 'https://studytube.atlassian.net/wiki/spaces/ST/pages/2193752086/1Password', 'title': '1Password'}),\n",
       " Document(page_content='Why do we use a password manager? In line with the Information Security Principles we use 1Password as our company-wide password management tool. Security is a vital part of our road to the BHAG. Product can build the best platforms, sales can work their hardest to close deals, but if we have a security breach, customers will lose trust in our platform and our work would be for nothing. 1Password is mandatory for all Tubers. Shared passwords, Wifi and all other logins can only be shared through 1Password. Never share passwords via Slack or E-mail. 🔐 What is a password manager? A password', metadata={'id': '2193752086', 'source': 'https://studytube.atlassian.net/wiki/spaces/ST/pages/2193752086/1Password', 'title': '1Password'})]"
      ]
     },
     "execution_count": 14,
     "metadata": {},
     "output_type": "execute_result"
    }
   ],
   "source": [
    "db.similarity_search(\"What is our password policy?\")"
   ]
  },
  {
   "cell_type": "code",
   "execution_count": 15,
   "id": "45eb35cd-40cd-44b9-990d-ca7e197d0648",
   "metadata": {},
   "outputs": [
    {
     "ename": "NameError",
     "evalue": "name 'docs' is not defined",
     "output_type": "error",
     "traceback": [
      "\u001b[0;31m---------------------------------------------------------------------------\u001b[0m",
      "\u001b[0;31mNameError\u001b[0m                                 Traceback (most recent call last)",
      "Cell \u001b[0;32mIn[15], line 1\u001b[0m\n\u001b[0;32m----> 1\u001b[0m \u001b[38;5;28mprint\u001b[39m(\u001b[43mdocs\u001b[49m[\u001b[38;5;241m2\u001b[39m])\n",
      "\u001b[0;31mNameError\u001b[0m: name 'docs' is not defined"
     ]
    }
   ],
   "source": [
    "print(docs[2])"
   ]
  },
  {
   "cell_type": "code",
   "execution_count": 25,
   "id": "89b67115-3c36-4034-8da6-54721d6d5379",
   "metadata": {},
   "outputs": [],
   "source": [
    "from langchain.prompts import PromptTemplate\n",
    "\n",
    "# Build prompt\n",
    "template = \"\"\"\n",
    "Imagine yourself as HR employee working in studytube. You need to answer the questions from another employee. \n",
    "Answer should based on information from confluence page. If possible add link to confluence page\n",
    "Answer the question in form of steps needed to take.\n",
    "\n",
    "{context}\n",
    "\n",
    "Question: {question}\n",
    "Answer:\"\"\"\n",
    "QA_CHAIN_PROMPT = PromptTemplate.from_template(template)"
   ]
  },
  {
   "cell_type": "code",
   "execution_count": 17,
   "id": "c011e552-d326-46a6-87c0-303b6300aa64",
   "metadata": {},
   "outputs": [],
   "source": [
    "from langchain.chat_models import ChatOpenAI\n",
    "llm = ChatOpenAI(model_name='gpt-3.5-turbo', temperature=0)"
   ]
  },
  {
   "cell_type": "code",
   "execution_count": 18,
   "id": "49ff8111-70a3-4641-a782-610f8c4688e5",
   "metadata": {},
   "outputs": [],
   "source": [
    "from langchain.llms import OpenAI\n",
    "from langchain.retrievers.self_query.base import SelfQueryRetriever\n",
    "from langchain.chains.query_constructor.base import AttributeInfo"
   ]
  },
  {
   "cell_type": "code",
   "execution_count": 19,
   "id": "c02c4a1a-c2d8-495d-8d50-77f62da3a547",
   "metadata": {},
   "outputs": [],
   "source": [
    "metadata_field_info = [\n",
    "    AttributeInfo(\n",
    "        name=\"source\",\n",
    "        description=\"The URL to the cofluence page with detailed information`\",\n",
    "        type=\"string\",\n",
    "    ),\n",
    "    AttributeInfo(\n",
    "        name=\"title\",\n",
    "        description=\"The confluence page  title\",\n",
    "        type=\"string\",\n",
    "    ),\n",
    "]"
   ]
  },
  {
   "cell_type": "code",
   "execution_count": 20,
   "id": "b2426cf2-1346-4522-a899-59c54cf5db68",
   "metadata": {},
   "outputs": [],
   "source": [
    "document_content_description = \"Confluence pages\"\n",
    "retriever = SelfQueryRetriever.from_llm(\n",
    "    OpenAI(temperature=0),\n",
    "    db,\n",
    "    document_content_description,\n",
    "    metadata_field_info,\n",
    "    verbose=True\n",
    ")"
   ]
  },
  {
   "cell_type": "code",
   "execution_count": null,
   "id": "26473947-ca95-4012-a236-4d68bd1aaae3",
   "metadata": {},
   "outputs": [],
   "source": []
  },
  {
   "cell_type": "code",
   "execution_count": 21,
   "id": "b42b9a54-ca69-4dfb-a5a0-e5b3da36fcc5",
   "metadata": {},
   "outputs": [],
   "source": [
    "from langchain.chains import RetrievalQA\n",
    "\n",
    "qa_chain = RetrievalQA.from_chain_type(\n",
    "    llm,\n",
    "    retriever=retriever,\n",
    "    chain_type_kwargs={\"prompt\": QA_CHAIN_PROMPT}\n",
    ")"
   ]
  },
  {
   "cell_type": "code",
   "execution_count": 27,
   "id": "0751000d-b70c-49a5-89a0-eba38a1f9ed3",
   "metadata": {},
   "outputs": [
    {
     "data": {
      "text/plain": [
       "[Document(page_content='party) to Chris or Victoria. Read also: Security incidents - when and how to report them . Only use complex and unique passwords, generated and stored by 1Password. Never share passwords via Slack or E-mail. Blur personal data in screenshots before uploading and sharing with colleagues . Limit the sending of personal data via e-mail as much as possible. Always share data internally via a Google Drive link. Ensure that your laptop requires a login after it goes to sleep or goes to screensaver. Lock your laptop whenever you leave it unattended. Never leave portable hardware like laptops or', metadata={'id': '2189492650', 'source': 'https://studytube.atlassian.net/wiki/spaces/ST/pages/2189492650/Information+Security+Principles+and+your+Duty+of+Confidentiality', 'title': 'Information Security Principles and your Duty of Confidentiality'}),\n",
       " Document(page_content='party) to Chris or Victoria. Read also: Security incidents - when and how to report them . Only use complex and unique passwords, generated and stored by 1Password. Never share passwords via Slack or E-mail. Blur personal data in screenshots before uploading and sharing with colleagues . Limit the sending of personal data via e-mail as much as possible. Always share data internally via a Google Drive link. Ensure that your laptop requires a login after it goes to sleep or goes to screensaver. Lock your laptop whenever you leave it unattended. Never leave portable hardware like laptops or', metadata={'id': '2189492650', 'source': 'https://studytube.atlassian.net/wiki/spaces/ST/pages/2189492650/Information+Security+Principles+and+your+Duty+of+Confidentiality', 'title': 'Information Security Principles and your Duty of Confidentiality'}),\n",
       " Document(page_content='passwords are best. 1Password generates them for you. Do not use the same password in multiple places. If your password gets hacked in one place, you do not want the hacker to be able to reuse it in other places too! Consider an insecure webshop that loses your password information to a hacker who can now also log into your GMail and Facebook accounts. This is a tough one to manage. Use 1Password', metadata={'id': '2193653812', 'source': 'https://studytube.atlassian.net/wiki/spaces/ST/pages/2193653812/Password+Policy', 'title': 'Password Policy'}),\n",
       " Document(page_content='passwords are best. 1Password generates them for you. Do not use the same password in multiple places. If your password gets hacked in one place, you do not want the hacker to be able to reuse it in other places too! Consider an insecure webshop that loses your password information to a hacker who can now also log into your GMail and Facebook accounts. This is a tough one to manage. Use 1Password', metadata={'id': '2193653812', 'source': 'https://studytube.atlassian.net/wiki/spaces/ST/pages/2193653812/Password+Policy', 'title': 'Password Policy'})]"
      ]
     },
     "execution_count": 27,
     "metadata": {},
     "output_type": "execute_result"
    }
   ],
   "source": [
    "retriever.get_relevant_documents(question)"
   ]
  },
  {
   "cell_type": "code",
   "execution_count": 22,
   "id": "29af802a-b74e-4d4d-9c7d-c40d7cbfc741",
   "metadata": {},
   "outputs": [],
   "source": [
    "question='Which is our password policy?'"
   ]
  },
  {
   "cell_type": "code",
   "execution_count": 28,
   "id": "9b1ca9c5-4128-4fe3-8b4e-61479a6f8e42",
   "metadata": {},
   "outputs": [],
   "source": [
    "result = qa_chain({\"query\": question})"
   ]
  },
  {
   "cell_type": "code",
   "execution_count": 29,
   "id": "6190bc0b-041c-485a-a691-b36c6d405688",
   "metadata": {},
   "outputs": [
    {
     "name": "stdout",
     "output_type": "stream",
     "text": [
      "Our password policy is as follows:\n",
      "\n",
      "1. Only use complex and unique passwords.\n",
      "2. Generate and store passwords using 1Password.\n",
      "3. Never share passwords via Slack or email.\n",
      "4. Do not use the same password in multiple places.\n",
      "5. Blur personal data in screenshots before uploading and sharing with colleagues.\n",
      "6. Limit the sending of personal data via email as much as possible.\n",
      "7. Always share data internally via a Google Drive link.\n",
      "8. Ensure that your laptop requires a login after it goes to sleep or goes to screensaver.\n",
      "9. Lock your laptop whenever you leave it unattended.\n",
      "10. Never leave portable hardware like laptops or passwords unattended.\n"
     ]
    }
   ],
   "source": [
    "print(result[\"result\"])"
   ]
  }
 ],
 "metadata": {
  "kernelspec": {
   "display_name": "Python 3 (ipykernel)",
   "language": "python",
   "name": "python3"
  },
  "language_info": {
   "codemirror_mode": {
    "name": "ipython",
    "version": 3
   },
   "file_extension": ".py",
   "mimetype": "text/x-python",
   "name": "python",
   "nbconvert_exporter": "python",
   "pygments_lexer": "ipython3",
   "version": "3.11.6"
  }
 },
 "nbformat": 4,
 "nbformat_minor": 5
}
